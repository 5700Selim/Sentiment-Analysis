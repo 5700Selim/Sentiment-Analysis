{
 "cells": [
  {
   "cell_type": "code",
   "execution_count": 40,
   "id": "eba9cdd1-5588-4bf2-a46a-1db64d575995",
   "metadata": {},
   "outputs": [],
   "source": [
    "import re\n",
    "import nltk\n",
    "import string\n",
    "import warnings\n",
    "import numpy as np\n",
    "import seaborn as sns\n",
    "import matplotlib.pyplot as plt"
   ]
  },
  {
   "cell_type": "code",
   "execution_count": 41,
   "id": "e21b7353-4dc7-45e0-b3e0-b9f3342ad92e",
   "metadata": {},
   "outputs": [],
   "source": [
    "from sklearn.model_selection import train_test_split"
   ]
  },
  {
   "cell_type": "code",
   "execution_count": 42,
   "id": "6c786394-9976-4c7d-8ceb-559a2fe6c7d5",
   "metadata": {},
   "outputs": [],
   "source": [
    "from sklearn import naive_bayes"
   ]
  },
  {
   "cell_type": "code",
   "execution_count": 43,
   "id": "1fcf97df-31ef-4a3b-b4db-a62646098792",
   "metadata": {},
   "outputs": [],
   "source": [
    "from sklearn.metrics import roc_auc_score"
   ]
  },
  {
   "cell_type": "code",
   "execution_count": 44,
   "id": "ef3a060e-a576-4396-bee7-8c111fa14059",
   "metadata": {},
   "outputs": [],
   "source": [
    "import pandas as pd"
   ]
  },
  {
   "cell_type": "code",
   "execution_count": 45,
   "id": "5b72ae49-3b7a-4c0d-988a-2c32642b3f3e",
   "metadata": {},
   "outputs": [],
   "source": [
    "dt= pd.read_csv(\"Twitter_Data.csv\")"
   ]
  },
  {
   "cell_type": "code",
   "execution_count": 46,
   "id": "ec949f9e-cc17-4fe2-b144-fca9b3801ce7",
   "metadata": {},
   "outputs": [
    {
     "data": {
      "text/html": [
       "<div>\n",
       "<style scoped>\n",
       "    .dataframe tbody tr th:only-of-type {\n",
       "        vertical-align: middle;\n",
       "    }\n",
       "\n",
       "    .dataframe tbody tr th {\n",
       "        vertical-align: top;\n",
       "    }\n",
       "\n",
       "    .dataframe thead th {\n",
       "        text-align: right;\n",
       "    }\n",
       "</style>\n",
       "<table border=\"1\" class=\"dataframe\">\n",
       "  <thead>\n",
       "    <tr style=\"text-align: right;\">\n",
       "      <th></th>\n",
       "      <th>clean_text</th>\n",
       "      <th>category</th>\n",
       "    </tr>\n",
       "  </thead>\n",
       "  <tbody>\n",
       "    <tr>\n",
       "      <th>0</th>\n",
       "      <td>when modi promised “minimum government maximum governance” expected him begin the difficult job reforming the state why does take years get justice state should and not business and should exit ps...</td>\n",
       "      <td>-1.0</td>\n",
       "    </tr>\n",
       "    <tr>\n",
       "      <th>1</th>\n",
       "      <td>talk all the nonsense and continue all the drama will vote for modi</td>\n",
       "      <td>0.0</td>\n",
       "    </tr>\n",
       "    <tr>\n",
       "      <th>2</th>\n",
       "      <td>what did just say vote for modi  welcome bjp told you rahul the main campaigner for modi think modi should just relax</td>\n",
       "      <td>1.0</td>\n",
       "    </tr>\n",
       "    <tr>\n",
       "      <th>3</th>\n",
       "      <td>asking his supporters prefix chowkidar their names modi did great service now there confusion what read what not now crustal clear what will crass filthy nonsensical see how most abuses are coming...</td>\n",
       "      <td>1.0</td>\n",
       "    </tr>\n",
       "    <tr>\n",
       "      <th>4</th>\n",
       "      <td>answer who among these the most powerful world leader today trump putin modi may</td>\n",
       "      <td>1.0</td>\n",
       "    </tr>\n",
       "    <tr>\n",
       "      <th>5</th>\n",
       "      <td>kiya tho refresh maarkefir comment karo</td>\n",
       "      <td>0.0</td>\n",
       "    </tr>\n",
       "    <tr>\n",
       "      <th>6</th>\n",
       "      <td>surat women perform yagna seeks divine grace for narendra modi become again\\n</td>\n",
       "      <td>0.0</td>\n",
       "    </tr>\n",
       "    <tr>\n",
       "      <th>7</th>\n",
       "      <td>this comes from cabinet which has scholars like modi smriti and hema time introspect</td>\n",
       "      <td>0.0</td>\n",
       "    </tr>\n",
       "    <tr>\n",
       "      <th>8</th>\n",
       "      <td>with upcoming election india saga going important pair look current modi leads govt elected with deal brexit combination this weekly looks juicy bears imho</td>\n",
       "      <td>1.0</td>\n",
       "    </tr>\n",
       "    <tr>\n",
       "      <th>9</th>\n",
       "      <td>gandhi was gay does modi</td>\n",
       "      <td>1.0</td>\n",
       "    </tr>\n",
       "  </tbody>\n",
       "</table>\n",
       "</div>"
      ],
      "text/plain": [
       "                                                                                                                                                                                                clean_text  \\\n",
       "0  when modi promised “minimum government maximum governance” expected him begin the difficult job reforming the state why does take years get justice state should and not business and should exit ps...   \n",
       "1                                                                                                                                     talk all the nonsense and continue all the drama will vote for modi    \n",
       "2                                                                                    what did just say vote for modi  welcome bjp told you rahul the main campaigner for modi think modi should just relax   \n",
       "3  asking his supporters prefix chowkidar their names modi did great service now there confusion what read what not now crustal clear what will crass filthy nonsensical see how most abuses are coming...   \n",
       "4                                                                                                                        answer who among these the most powerful world leader today trump putin modi may    \n",
       "5                                                                                                                                                                 kiya tho refresh maarkefir comment karo    \n",
       "6                                                                                                                            surat women perform yagna seeks divine grace for narendra modi become again\\n   \n",
       "7                                                                                                                     this comes from cabinet which has scholars like modi smriti and hema time introspect   \n",
       "8                                             with upcoming election india saga going important pair look current modi leads govt elected with deal brexit combination this weekly looks juicy bears imho    \n",
       "9                                                                                                                                                                               gandhi was gay does modi     \n",
       "\n",
       "   category  \n",
       "0      -1.0  \n",
       "1       0.0  \n",
       "2       1.0  \n",
       "3       1.0  \n",
       "4       1.0  \n",
       "5       0.0  \n",
       "6       0.0  \n",
       "7       0.0  \n",
       "8       1.0  \n",
       "9       1.0  "
      ]
     },
     "execution_count": 46,
     "metadata": {},
     "output_type": "execute_result"
    }
   ],
   "source": [
    "dt.head(10)"
   ]
  },
  {
   "cell_type": "code",
   "execution_count": 47,
   "id": "f18c470d-a739-478b-b075-6f2ffb7e1701",
   "metadata": {},
   "outputs": [
    {
     "data": {
      "text/plain": [
       "(162980, 2)"
      ]
     },
     "execution_count": 47,
     "metadata": {},
     "output_type": "execute_result"
    }
   ],
   "source": [
    "dt.shape"
   ]
  },
  {
   "cell_type": "code",
   "execution_count": 48,
   "id": "c3df4cdd-6e3e-4332-ab09-aaf8d3bdca7b",
   "metadata": {},
   "outputs": [
    {
     "data": {
      "text/plain": [
       "clean_text    4\n",
       "category      7\n",
       "dtype: int64"
      ]
     },
     "execution_count": 48,
     "metadata": {},
     "output_type": "execute_result"
    }
   ],
   "source": [
    "dt.isnull().sum()"
   ]
  },
  {
   "cell_type": "code",
   "execution_count": 49,
   "id": "cd495575-e8d3-4d69-9a63-07cf1861b44e",
   "metadata": {},
   "outputs": [],
   "source": [
    "dt.dropna(inplace=True)"
   ]
  },
  {
   "cell_type": "code",
   "execution_count": 50,
   "id": "b8f1ce35-7db5-44a7-b26b-fbcaed4dd55b",
   "metadata": {},
   "outputs": [
    {
     "data": {
      "text/plain": [
       "clean_text    0\n",
       "category      0\n",
       "dtype: int64"
      ]
     },
     "execution_count": 50,
     "metadata": {},
     "output_type": "execute_result"
    }
   ],
   "source": [
    "dt.isnull().sum()"
   ]
  },
  {
   "cell_type": "code",
   "execution_count": 51,
   "id": "219a66a6-2f9e-4cd0-954c-6a4b4eafa4e0",
   "metadata": {},
   "outputs": [
    {
     "data": {
      "text/plain": [
       "0"
      ]
     },
     "execution_count": 51,
     "metadata": {},
     "output_type": "execute_result"
    }
   ],
   "source": [
    "dt.duplicated().sum()"
   ]
  },
  {
   "cell_type": "code",
   "execution_count": 52,
   "id": "57c34d94-486b-496f-add0-68ed567cb392",
   "metadata": {},
   "outputs": [],
   "source": [
    "dt['clean_text'] = dt['clean_text'].apply(lambda x:x.lower())"
   ]
  },
  {
   "cell_type": "code",
   "execution_count": 53,
   "id": "f0f5c3cb-4eaa-4a59-9ee1-e362979fa28a",
   "metadata": {},
   "outputs": [],
   "source": [
    "pd.set_option(\"display.max_colwidth\",200)\n",
    "warnings.filterwarnings(\"ignore\",category=DeprecationWarning)\n",
    "%matplotlib inline"
   ]
  },
  {
   "cell_type": "code",
   "execution_count": 54,
   "id": "621015d9-dc74-45e3-bdf2-9ee1a7610f03",
   "metadata": {},
   "outputs": [
    {
     "data": {
      "text/html": [
       "<div>\n",
       "<style scoped>\n",
       "    .dataframe tbody tr th:only-of-type {\n",
       "        vertical-align: middle;\n",
       "    }\n",
       "\n",
       "    .dataframe tbody tr th {\n",
       "        vertical-align: top;\n",
       "    }\n",
       "\n",
       "    .dataframe thead th {\n",
       "        text-align: right;\n",
       "    }\n",
       "</style>\n",
       "<table border=\"1\" class=\"dataframe\">\n",
       "  <thead>\n",
       "    <tr style=\"text-align: right;\">\n",
       "      <th></th>\n",
       "      <th>clean_text</th>\n",
       "      <th>category</th>\n",
       "    </tr>\n",
       "  </thead>\n",
       "  <tbody>\n",
       "    <tr>\n",
       "      <th>1</th>\n",
       "      <td>talk all the nonsense and continue all the drama will vote for modi</td>\n",
       "      <td>0.0</td>\n",
       "    </tr>\n",
       "    <tr>\n",
       "      <th>5</th>\n",
       "      <td>kiya tho refresh maarkefir comment karo</td>\n",
       "      <td>0.0</td>\n",
       "    </tr>\n",
       "    <tr>\n",
       "      <th>6</th>\n",
       "      <td>surat women perform yagna seeks divine grace for narendra modi become again\\n</td>\n",
       "      <td>0.0</td>\n",
       "    </tr>\n",
       "    <tr>\n",
       "      <th>7</th>\n",
       "      <td>this comes from cabinet which has scholars like modi smriti and hema time introspect</td>\n",
       "      <td>0.0</td>\n",
       "    </tr>\n",
       "    <tr>\n",
       "      <th>13</th>\n",
       "      <td>one vote can make all the difference anil kapoor answers modis election 2019 clarion call extends support his vote kar campaign</td>\n",
       "      <td>0.0</td>\n",
       "    </tr>\n",
       "    <tr>\n",
       "      <th>14</th>\n",
       "      <td>one vote can make all the difference anil kapoor answers modis election 2019 clarion call extends support his campaign</td>\n",
       "      <td>0.0</td>\n",
       "    </tr>\n",
       "    <tr>\n",
       "      <th>16</th>\n",
       "      <td>vote modi who has not created jobs</td>\n",
       "      <td>0.0</td>\n",
       "    </tr>\n",
       "    <tr>\n",
       "      <th>17</th>\n",
       "      <td>through our vote ensure govt need and deserve anupam kher responds modis appeal for the 2019 elections</td>\n",
       "      <td>0.0</td>\n",
       "    </tr>\n",
       "    <tr>\n",
       "      <th>22</th>\n",
       "      <td>crush jaws those who shoutmodimodi says jds mla this inciting murder</td>\n",
       "      <td>0.0</td>\n",
       "    </tr>\n",
       "    <tr>\n",
       "      <th>26</th>\n",
       "      <td>has already taken notice and ordered probe now time for modi take notice muslim family being harassed beaten recently extremist hindus and was suggested leave india move pakistan</td>\n",
       "      <td>0.0</td>\n",
       "    </tr>\n",
       "  </tbody>\n",
       "</table>\n",
       "</div>"
      ],
      "text/plain": [
       "                                                                                                                                                                            clean_text  \\\n",
       "1                                                                                                                 talk all the nonsense and continue all the drama will vote for modi    \n",
       "5                                                                                                                                             kiya tho refresh maarkefir comment karo    \n",
       "6                                                                                                        surat women perform yagna seeks divine grace for narendra modi become again\\n   \n",
       "7                                                                                                 this comes from cabinet which has scholars like modi smriti and hema time introspect   \n",
       "13                                                    one vote can make all the difference anil kapoor answers modis election 2019 clarion call extends support his vote kar campaign    \n",
       "14                                                             one vote can make all the difference anil kapoor answers modis election 2019 clarion call extends support his campaign    \n",
       "16                                                                                                                                                  vote modi who has not created jobs   \n",
       "17                                                                             through our vote ensure govt need and deserve anupam kher responds modis appeal for the 2019 elections    \n",
       "22                                                                                                                crush jaws those who shoutmodimodi says jds mla this inciting murder   \n",
       "26  has already taken notice and ordered probe now time for modi take notice muslim family being harassed beaten recently extremist hindus and was suggested leave india move pakistan   \n",
       "\n",
       "    category  \n",
       "1        0.0  \n",
       "5        0.0  \n",
       "6        0.0  \n",
       "7        0.0  \n",
       "13       0.0  \n",
       "14       0.0  \n",
       "16       0.0  \n",
       "17       0.0  \n",
       "22       0.0  \n",
       "26       0.0  "
      ]
     },
     "execution_count": 54,
     "metadata": {},
     "output_type": "execute_result"
    }
   ],
   "source": [
    "dt[dt['category']==0].head(10)"
   ]
  },
  {
   "cell_type": "code",
   "execution_count": 55,
   "id": "f5ca2e93-9764-4fee-bc87-0a305592a1d5",
   "metadata": {},
   "outputs": [
    {
     "data": {
      "text/plain": [
       " 1.0    72249\n",
       " 0.0    55211\n",
       "-1.0    35509\n",
       "Name: category, dtype: int64"
      ]
     },
     "execution_count": 55,
     "metadata": {},
     "output_type": "execute_result"
    }
   ],
   "source": [
    "dt['category'].value_counts()"
   ]
  },
  {
   "cell_type": "code",
   "execution_count": 56,
   "id": "c2561f63-f2fc-49fd-8091-90ab9224d443",
   "metadata": {},
   "outputs": [
    {
     "data": {
      "image/png": "[encoded data removed]",
      "text/plain": [
       "<Figure size 640x480 with 1 Axes>"
      ]
     },
     "metadata": {},
     "output_type": "display_data"
    }
   ],
   "source": [
    "length_dataset = dt['clean_text'].str.len()\n",
    "plt.hist(length_dataset, bins=20, label=\"tweets\")\n",
    "plt.legend()\n",
    "plt.show()"
   ]
  },
  {
   "cell_type": "code",
   "execution_count": 57,
   "id": "7ad0abca-0d6a-4d74-b3ca-14bf22d73488",
   "metadata": {},
   "outputs": [],
   "source": [
    "def remove_pattern(input_text,pattern):\n",
    "    r=re.findall(pattern, input_text)\n",
    "    for i in r:\n",
    "        input_tedxt = re.sub(i, '', input_text)\n",
    "    return input_text"
   ]
  },
  {
   "cell_type": "markdown",
   "id": "7c53f505-5b55-4357-a225-9f88211263c6",
   "metadata": {},
   "source": [
    "Removing twitter handles"
   ]
  },
  {
   "cell_type": "code",
   "execution_count": 58,
   "id": "b79b0c21-4cae-486c-b879-a135477f5f5e",
   "metadata": {},
   "outputs": [
    {
     "data": {
      "text/html": [
       "<div>\n",
       "<style scoped>\n",
       "    .dataframe tbody tr th:only-of-type {\n",
       "        vertical-align: middle;\n",
       "    }\n",
       "\n",
       "    .dataframe tbody tr th {\n",
       "        vertical-align: top;\n",
       "    }\n",
       "\n",
       "    .dataframe thead th {\n",
       "        text-align: right;\n",
       "    }\n",
       "</style>\n",
       "<table border=\"1\" class=\"dataframe\">\n",
       "  <thead>\n",
       "    <tr style=\"text-align: right;\">\n",
       "      <th></th>\n",
       "      <th>clean_text</th>\n",
       "      <th>category</th>\n",
       "      <th>tweets</th>\n",
       "    </tr>\n",
       "  </thead>\n",
       "  <tbody>\n",
       "    <tr>\n",
       "      <th>0</th>\n",
       "      <td>when modi promised “minimum government maximum governance” expected him begin the difficult job reforming the state why does take years get justice state should and not business and should exit ps...</td>\n",
       "      <td>-1.0</td>\n",
       "      <td>when modi promised “minimum government maximum governance” expected him begin the difficult job reforming the state why does take years get justice state should and not business and should exit ps...</td>\n",
       "    </tr>\n",
       "    <tr>\n",
       "      <th>1</th>\n",
       "      <td>talk all the nonsense and continue all the drama will vote for modi</td>\n",
       "      <td>0.0</td>\n",
       "      <td>talk all the nonsense and continue all the drama will vote for modi</td>\n",
       "    </tr>\n",
       "    <tr>\n",
       "      <th>2</th>\n",
       "      <td>what did just say vote for modi  welcome bjp told you rahul the main campaigner for modi think modi should just relax</td>\n",
       "      <td>1.0</td>\n",
       "      <td>what did just say vote for modi  welcome bjp told you rahul the main campaigner for modi think modi should just relax</td>\n",
       "    </tr>\n",
       "    <tr>\n",
       "      <th>3</th>\n",
       "      <td>asking his supporters prefix chowkidar their names modi did great service now there confusion what read what not now crustal clear what will crass filthy nonsensical see how most abuses are coming...</td>\n",
       "      <td>1.0</td>\n",
       "      <td>asking his supporters prefix chowkidar their names modi did great service now there confusion what read what not now crustal clear what will crass filthy nonsensical see how most abuses are coming...</td>\n",
       "    </tr>\n",
       "    <tr>\n",
       "      <th>4</th>\n",
       "      <td>answer who among these the most powerful world leader today trump putin modi may</td>\n",
       "      <td>1.0</td>\n",
       "      <td>answer who among these the most powerful world leader today trump putin modi may</td>\n",
       "    </tr>\n",
       "  </tbody>\n",
       "</table>\n",
       "</div>"
      ],
      "text/plain": [
       "                                                                                                                                                                                                clean_text  \\\n",
       "0  when modi promised “minimum government maximum governance” expected him begin the difficult job reforming the state why does take years get justice state should and not business and should exit ps...   \n",
       "1                                                                                                                                     talk all the nonsense and continue all the drama will vote for modi    \n",
       "2                                                                                    what did just say vote for modi  welcome bjp told you rahul the main campaigner for modi think modi should just relax   \n",
       "3  asking his supporters prefix chowkidar their names modi did great service now there confusion what read what not now crustal clear what will crass filthy nonsensical see how most abuses are coming...   \n",
       "4                                                                                                                        answer who among these the most powerful world leader today trump putin modi may    \n",
       "\n",
       "   category  \\\n",
       "0      -1.0   \n",
       "1       0.0   \n",
       "2       1.0   \n",
       "3       1.0   \n",
       "4       1.0   \n",
       "\n",
       "                                                                                                                                                                                                    tweets  \n",
       "0  when modi promised “minimum government maximum governance” expected him begin the difficult job reforming the state why does take years get justice state should and not business and should exit ps...  \n",
       "1                                                                                                                                     talk all the nonsense and continue all the drama will vote for modi   \n",
       "2                                                                                    what did just say vote for modi  welcome bjp told you rahul the main campaigner for modi think modi should just relax  \n",
       "3  asking his supporters prefix chowkidar their names modi did great service now there confusion what read what not now crustal clear what will crass filthy nonsensical see how most abuses are coming...  \n",
       "4                                                                                                                        answer who among these the most powerful world leader today trump putin modi may   "
      ]
     },
     "execution_count": 58,
     "metadata": {},
     "output_type": "execute_result"
    }
   ],
   "source": [
    "dt['tweets'] = np.vectorize(remove_pattern)(dt['clean_text'],\"@[\\w]*\")\n",
    "dt.head()"
   ]
  },
  {
   "cell_type": "code",
   "execution_count": 59,
   "id": "8b509c62-098f-427f-bfc2-7127bfd477a1",
   "metadata": {},
   "outputs": [
    {
     "name": "stderr",
     "output_type": "stream",
     "text": [
      "C:\\Users\\ssaso\\AppData\\Local\\Temp\\ipykernel_17220\\3604716785.py:1: FutureWarning: The default value of regex will change from True to False in a future version.\n",
      "  dt['tweets'] = dt['tweets'].str.replace(\"[^a-zA-Z#]\",\" \")\n"
     ]
    },
    {
     "data": {
      "text/html": [
       "<div>\n",
       "<style scoped>\n",
       "    .dataframe tbody tr th:only-of-type {\n",
       "        vertical-align: middle;\n",
       "    }\n",
       "\n",
       "    .dataframe tbody tr th {\n",
       "        vertical-align: top;\n",
       "    }\n",
       "\n",
       "    .dataframe thead th {\n",
       "        text-align: right;\n",
       "    }\n",
       "</style>\n",
       "<table border=\"1\" class=\"dataframe\">\n",
       "  <thead>\n",
       "    <tr style=\"text-align: right;\">\n",
       "      <th></th>\n",
       "      <th>clean_text</th>\n",
       "      <th>category</th>\n",
       "      <th>tweets</th>\n",
       "    </tr>\n",
       "  </thead>\n",
       "  <tbody>\n",
       "    <tr>\n",
       "      <th>0</th>\n",
       "      <td>when modi promised “minimum government maximum governance” expected him begin the difficult job reforming the state why does take years get justice state should and not business and should exit ps...</td>\n",
       "      <td>-1.0</td>\n",
       "      <td>when modi promised  minimum government maximum governance  expected him begin the difficult job reforming the state why does take years get justice state should and not business and should exit ps...</td>\n",
       "    </tr>\n",
       "    <tr>\n",
       "      <th>1</th>\n",
       "      <td>talk all the nonsense and continue all the drama will vote for modi</td>\n",
       "      <td>0.0</td>\n",
       "      <td>talk all the nonsense and continue all the drama will vote for modi</td>\n",
       "    </tr>\n",
       "    <tr>\n",
       "      <th>2</th>\n",
       "      <td>what did just say vote for modi  welcome bjp told you rahul the main campaigner for modi think modi should just relax</td>\n",
       "      <td>1.0</td>\n",
       "      <td>what did just say vote for modi  welcome bjp told you rahul the main campaigner for modi think modi should just relax</td>\n",
       "    </tr>\n",
       "    <tr>\n",
       "      <th>3</th>\n",
       "      <td>asking his supporters prefix chowkidar their names modi did great service now there confusion what read what not now crustal clear what will crass filthy nonsensical see how most abuses are coming...</td>\n",
       "      <td>1.0</td>\n",
       "      <td>asking his supporters prefix chowkidar their names modi did great service now there confusion what read what not now crustal clear what will crass filthy nonsensical see how most abuses are coming...</td>\n",
       "    </tr>\n",
       "    <tr>\n",
       "      <th>4</th>\n",
       "      <td>answer who among these the most powerful world leader today trump putin modi may</td>\n",
       "      <td>1.0</td>\n",
       "      <td>answer who among these the most powerful world leader today trump putin modi may</td>\n",
       "    </tr>\n",
       "    <tr>\n",
       "      <th>5</th>\n",
       "      <td>kiya tho refresh maarkefir comment karo</td>\n",
       "      <td>0.0</td>\n",
       "      <td>kiya tho refresh maarkefir comment karo</td>\n",
       "    </tr>\n",
       "    <tr>\n",
       "      <th>6</th>\n",
       "      <td>surat women perform yagna seeks divine grace for narendra modi become again\\n</td>\n",
       "      <td>0.0</td>\n",
       "      <td>surat women perform yagna seeks divine grace for narendra modi become again</td>\n",
       "    </tr>\n",
       "    <tr>\n",
       "      <th>7</th>\n",
       "      <td>this comes from cabinet which has scholars like modi smriti and hema time introspect</td>\n",
       "      <td>0.0</td>\n",
       "      <td>this comes from cabinet which has scholars like modi smriti and hema time introspect</td>\n",
       "    </tr>\n",
       "    <tr>\n",
       "      <th>8</th>\n",
       "      <td>with upcoming election india saga going important pair look current modi leads govt elected with deal brexit combination this weekly looks juicy bears imho</td>\n",
       "      <td>1.0</td>\n",
       "      <td>with upcoming election india saga going important pair look current modi leads govt elected with deal brexit combination this weekly looks juicy bears imho</td>\n",
       "    </tr>\n",
       "    <tr>\n",
       "      <th>9</th>\n",
       "      <td>gandhi was gay does modi</td>\n",
       "      <td>1.0</td>\n",
       "      <td>gandhi was gay does modi</td>\n",
       "    </tr>\n",
       "  </tbody>\n",
       "</table>\n",
       "</div>"
      ],
      "text/plain": [
       "                                                                                                                                                                                                clean_text  \\\n",
       "0  when modi promised “minimum government maximum governance” expected him begin the difficult job reforming the state why does take years get justice state should and not business and should exit ps...   \n",
       "1                                                                                                                                     talk all the nonsense and continue all the drama will vote for modi    \n",
       "2                                                                                    what did just say vote for modi  welcome bjp told you rahul the main campaigner for modi think modi should just relax   \n",
       "3  asking his supporters prefix chowkidar their names modi did great service now there confusion what read what not now crustal clear what will crass filthy nonsensical see how most abuses are coming...   \n",
       "4                                                                                                                        answer who among these the most powerful world leader today trump putin modi may    \n",
       "5                                                                                                                                                                 kiya tho refresh maarkefir comment karo    \n",
       "6                                                                                                                            surat women perform yagna seeks divine grace for narendra modi become again\\n   \n",
       "7                                                                                                                     this comes from cabinet which has scholars like modi smriti and hema time introspect   \n",
       "8                                             with upcoming election india saga going important pair look current modi leads govt elected with deal brexit combination this weekly looks juicy bears imho    \n",
       "9                                                                                                                                                                               gandhi was gay does modi     \n",
       "\n",
       "   category  \\\n",
       "0      -1.0   \n",
       "1       0.0   \n",
       "2       1.0   \n",
       "3       1.0   \n",
       "4       1.0   \n",
       "5       0.0   \n",
       "6       0.0   \n",
       "7       0.0   \n",
       "8       1.0   \n",
       "9       1.0   \n",
       "\n",
       "                                                                                                                                                                                                    tweets  \n",
       "0  when modi promised  minimum government maximum governance  expected him begin the difficult job reforming the state why does take years get justice state should and not business and should exit ps...  \n",
       "1                                                                                                                                     talk all the nonsense and continue all the drama will vote for modi   \n",
       "2                                                                                    what did just say vote for modi  welcome bjp told you rahul the main campaigner for modi think modi should just relax  \n",
       "3  asking his supporters prefix chowkidar their names modi did great service now there confusion what read what not now crustal clear what will crass filthy nonsensical see how most abuses are coming...  \n",
       "4                                                                                                                        answer who among these the most powerful world leader today trump putin modi may   \n",
       "5                                                                                                                                                                 kiya tho refresh maarkefir comment karo   \n",
       "6                                                                                                                             surat women perform yagna seeks divine grace for narendra modi become again   \n",
       "7                                                                                                                     this comes from cabinet which has scholars like modi smriti and hema time introspect  \n",
       "8                                             with upcoming election india saga going important pair look current modi leads govt elected with deal brexit combination this weekly looks juicy bears imho   \n",
       "9                                                                                                                                                                               gandhi was gay does modi    "
      ]
     },
     "execution_count": 59,
     "metadata": {},
     "output_type": "execute_result"
    }
   ],
   "source": [
    "dt['tweets'] = dt['tweets'].str.replace(\"[^a-zA-Z#]\",\" \")\n",
    "dt.head(10)"
   ]
  },
  {
   "cell_type": "markdown",
   "id": "dc0cf9a8-4ad4-40b8-a8aa-e61bfe20a72c",
   "metadata": {},
   "source": [
    "Removing short words"
   ]
  },
  {
   "cell_type": "code",
   "execution_count": 60,
   "id": "d1c6b3b8-421d-425d-8aff-99c1bffb64d5",
   "metadata": {},
   "outputs": [],
   "source": [
    "dt['tweets'] = dt['tweets'].apply(lambda x: ' '.join([w for w in x.split() if len(w)>3]))"
   ]
  },
  {
   "cell_type": "code",
   "execution_count": 61,
   "id": "8f12cd59-db0a-456a-b2e9-2774a48e3673",
   "metadata": {},
   "outputs": [],
   "source": [
    "from nltk.stem.porter import PorterStemmer\n",
    "ps = PorterStemmer()"
   ]
  },
  {
   "cell_type": "code",
   "execution_count": 62,
   "id": "7453feb3-d26a-4daa-a55f-9002682522cf",
   "metadata": {},
   "outputs": [],
   "source": [
    "def stem(text):\n",
    "    texts= text.split()\n",
    "    txt = [ps.stem(i)for i in texts]\n",
    "    final_text = \" \".join (txt)\n",
    "    return final_text"
   ]
  },
  {
   "cell_type": "code",
   "execution_count": 63,
   "id": "05935a42-7fcd-4f26-8c42-72c6c4374052",
   "metadata": {},
   "outputs": [],
   "source": [
    "dt['tweets'] = dt['tweets'].apply(stem)"
   ]
  },
  {
   "cell_type": "code",
   "execution_count": 64,
   "id": "acf00706-2cee-4ba6-ba80-abee15769e78",
   "metadata": {},
   "outputs": [],
   "source": [
    "from sklearn.feature_extraction.text import CountVectorizer\n",
    "cv = CountVectorizer(max_features=5000, stop_words='english')"
   ]
  },
  {
   "cell_type": "code",
   "execution_count": 65,
   "id": "4c418bcf-ee46-4e4f-9e72-c2b4f9b07941",
   "metadata": {},
   "outputs": [],
   "source": [
    "x = cv.fit_transform(dt['tweets'])"
   ]
  },
  {
   "cell_type": "code",
   "execution_count": 66,
   "id": "bb31aece-070c-4f52-a934-3905260832db",
   "metadata": {},
   "outputs": [
    {
     "data": {
      "text/plain": [
       "<162969x5000 sparse matrix of type '<class 'numpy.int64'>'\n",
       "\twith 1708847 stored elements in Compressed Sparse Row format>"
      ]
     },
     "execution_count": 66,
     "metadata": {},
     "output_type": "execute_result"
    }
   ],
   "source": [
    "x"
   ]
  },
  {
   "cell_type": "code",
   "execution_count": 67,
   "id": "5bdca256-ae33-4dd9-9a75-081577445474",
   "metadata": {},
   "outputs": [],
   "source": [
    "y= dt.category"
   ]
  },
  {
   "cell_type": "code",
   "execution_count": 68,
   "id": "b527cbf4-47c4-4b36-ae9a-20fca09167b4",
   "metadata": {},
   "outputs": [],
   "source": [
    "x_train, x_test, y_train, y_test = train_test_split(x, y, random_state= 42)"
   ]
  },
  {
   "cell_type": "code",
   "execution_count": 69,
   "id": "4ab6d638-df26-47a9-95ef-2ec6aec358a4",
   "metadata": {},
   "outputs": [
    {
     "data": {
      "text/plain": [
       "(40743, 5000)"
      ]
     },
     "execution_count": 69,
     "metadata": {},
     "output_type": "execute_result"
    }
   ],
   "source": [
    "x_test.shape"
   ]
  },
  {
   "cell_type": "code",
   "execution_count": 70,
   "id": "9d9e7702-c571-469b-8c76-e20c6c11122f",
   "metadata": {},
   "outputs": [
    {
     "data": {
      "text/html": [
       "<style>#sk-container-id-2 {color: black;background-color: white;}#sk-container-id-2 pre{padding: 0;}#sk-container-id-2 div.sk-toggleable {background-color: white;}#sk-container-id-2 label.sk-toggleable__label {cursor: pointer;display: block;width: 100%;margin-bottom: 0;padding: 0.3em;box-sizing: border-box;text-align: center;}#sk-container-id-2 label.sk-toggleable__label-arrow:before {content: \"▸\";float: left;margin-right: 0.25em;color: #696969;}#sk-container-id-2 label.sk-toggleable__label-arrow:hover:before {color: black;}#sk-container-id-2 div.sk-estimator:hover label.sk-toggleable__label-arrow:before {color: black;}#sk-container-id-2 div.sk-toggleable__content {max-height: 0;max-width: 0;overflow: hidden;text-align: left;background-color: #f0f8ff;}#sk-container-id-2 div.sk-toggleable__content pre {margin: 0.2em;color: black;border-radius: 0.25em;background-color: #f0f8ff;}#sk-container-id-2 input.sk-toggleable__control:checked~div.sk-toggleable__content {max-height: 200px;max-width: 100%;overflow: auto;}#sk-container-id-2 input.sk-toggleable__control:checked~label.sk-toggleable__label-arrow:before {content: \"▾\";}#sk-container-id-2 div.sk-estimator input.sk-toggleable__control:checked~label.sk-toggleable__label {background-color: #d4ebff;}#sk-container-id-2 div.sk-label input.sk-toggleable__control:checked~label.sk-toggleable__label {background-color: #d4ebff;}#sk-container-id-2 input.sk-hidden--visually {border: 0;clip: rect(1px 1px 1px 1px);clip: rect(1px, 1px, 1px, 1px);height: 1px;margin: -1px;overflow: hidden;padding: 0;position: absolute;width: 1px;}#sk-container-id-2 div.sk-estimator {font-family: monospace;background-color: #f0f8ff;border: 1px dotted black;border-radius: 0.25em;box-sizing: border-box;margin-bottom: 0.5em;}#sk-container-id-2 div.sk-estimator:hover {background-color: #d4ebff;}#sk-container-id-2 div.sk-parallel-item::after {content: \"\";width: 100%;border-bottom: 1px solid gray;flex-grow: 1;}#sk-container-id-2 div.sk-label:hover label.sk-toggleable__label {background-color: #d4ebff;}#sk-container-id-2 div.sk-serial::before {content: \"\";position: absolute;border-left: 1px solid gray;box-sizing: border-box;top: 0;bottom: 0;left: 50%;z-index: 0;}#sk-container-id-2 div.sk-serial {display: flex;flex-direction: column;align-items: center;background-color: white;padding-right: 0.2em;padding-left: 0.2em;position: relative;}#sk-container-id-2 div.sk-item {position: relative;z-index: 1;}#sk-container-id-2 div.sk-parallel {display: flex;align-items: stretch;justify-content: center;background-color: white;position: relative;}#sk-container-id-2 div.sk-item::before, #sk-container-id-2 div.sk-parallel-item::before {content: \"\";position: absolute;border-left: 1px solid gray;box-sizing: border-box;top: 0;bottom: 0;left: 50%;z-index: -1;}#sk-container-id-2 div.sk-parallel-item {display: flex;flex-direction: column;z-index: 1;position: relative;background-color: white;}#sk-container-id-2 div.sk-parallel-item:first-child::after {align-self: flex-end;width: 50%;}#sk-container-id-2 div.sk-parallel-item:last-child::after {align-self: flex-start;width: 50%;}#sk-container-id-2 div.sk-parallel-item:only-child::after {width: 0;}#sk-container-id-2 div.sk-dashed-wrapped {border: 1px dashed gray;margin: 0 0.4em 0.5em 0.4em;box-sizing: border-box;padding-bottom: 0.4em;background-color: white;}#sk-container-id-2 div.sk-label label {font-family: monospace;font-weight: bold;display: inline-block;line-height: 1.2em;}#sk-container-id-2 div.sk-label-container {text-align: center;}#sk-container-id-2 div.sk-container {/* jupyter's `normalize.less` sets `[hidden] { display: none; }` but bootstrap.min.css set `[hidden] { display: none !important; }` so we also need the `!important` here to be able to override the default hidden behavior on the sphinx rendered scikit-learn.org. See: https://github.com/scikit-learn/scikit-learn/issues/21755 */display: inline-block !important;position: relative;}#sk-container-id-2 div.sk-text-repr-fallback {display: none;}</style><div id=\"sk-container-id-2\" class=\"sk-top-container\"><div class=\"sk-text-repr-fallback\"><pre>MultinomialNB()</pre><b>In a Jupyter environment, please rerun this cell to show the HTML representation or trust the notebook. <br />On GitHub, the HTML representation is unable to render, please try loading this page with nbviewer.org.</b></div><div class=\"sk-container\" hidden><div class=\"sk-item\"><div class=\"sk-estimator sk-toggleable\"><input class=\"sk-toggleable__control sk-hidden--visually\" id=\"sk-estimator-id-2\" type=\"checkbox\" checked><label for=\"sk-estimator-id-2\" class=\"sk-toggleable__label sk-toggleable__label-arrow\">MultinomialNB</label><div class=\"sk-toggleable__content\"><pre>MultinomialNB()</pre></div></div></div></div></div>"
      ],
      "text/plain": [
       "MultinomialNB()"
      ]
     },
     "execution_count": 70,
     "metadata": {},
     "output_type": "execute_result"
    }
   ],
   "source": [
    "clf = naive_bayes.MultinomialNB()\n",
    "clf.fit(x_train, y_train)"
   ]
  },
  {
   "cell_type": "code",
   "execution_count": 71,
   "id": "f2be4a6c-89e2-4a9f-a805-874add8dbdaf",
   "metadata": {},
   "outputs": [
    {
     "data": {
      "text/plain": [
       "0.8547686318893057"
      ]
     },
     "execution_count": 71,
     "metadata": {},
     "output_type": "execute_result"
    }
   ],
   "source": [
    "roc_auc_score(y_test, clf.predict_proba(x_test), multi_class='ovr')"
   ]
  },
  {
   "cell_type": "code",
   "execution_count": 74,
   "id": "52c69491-c1a3-4acb-acc1-fdf032990de2",
   "metadata": {},
   "outputs": [
    {
     "data": {
      "text/plain": [
       "array([1.])"
      ]
     },
     "execution_count": 74,
     "metadata": {},
     "output_type": "execute_result"
    }
   ],
   "source": [
    "reviews= np.array([\"you are not bad\"])\n",
    "vector = cv.transform(reviews)\n",
    "clf.predict(vector)"
   ]
  },
  {
   "cell_type": "code",
   "execution_count": null,
   "id": "7ec7e2fd-1438-4423-a073-5da30d3de8e0",
   "metadata": {},
   "outputs": [],
   "source": []
  }
 ],
 "metadata": {
  "kernelspec": {
   "display_name": "Python 3 (ipykernel)",
   "language": "python",
   "name": "python3"
  },
  "language_info": {
   "codemirror_mode": {
    "name": "ipython",
    "version": 3
   },
   "file_extension": ".py",
   "mimetype": "text/x-python",
   "name": "python",
   "nbconvert_exporter": "python",
   "pygments_lexer": "ipython3",
   "version": "3.11.7"
  }
 },
 "nbformat": 4,
 "nbformat_minor": 5
}
